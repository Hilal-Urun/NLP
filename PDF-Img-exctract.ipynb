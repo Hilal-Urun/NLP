{
  "nbformat": 4,
  "nbformat_minor": 0,
  "metadata": {
    "colab": {
      "name": "Untitled35.ipynb",
      "provenance": []
    },
    "kernelspec": {
      "name": "python3",
      "display_name": "Python 3"
    },
    "language_info": {
      "name": "python"
    },
    "accelerator": "GPU",
    "gpuClass": "standard"
  },
  "cells": [
    {
      "cell_type": "code",
      "source": [
        "!pip install PyMuPDF==1.18.19 \n",
        "!pip install Pillow\n",
        "!pip install ghostscript"
      ],
      "metadata": {
        "colab": {
          "base_uri": "https://localhost:8080/",
          "height": 347
        },
        "id": "gc95GYpxB1Gf",
        "outputId": "c6bd1eb7-a00c-427b-a1ac-a7aff5a1f402"
      },
      "execution_count": 4,
      "outputs": [
        {
          "output_type": "stream",
          "name": "stdout",
          "text": [
            "Looking in indexes: https://pypi.org/simple, https://us-python.pkg.dev/colab-wheels/public/simple/\n",
            "Collecting PyMuPDF==1.18.19\n",
            "  Downloading PyMuPDF-1.18.19-cp37-cp37m-manylinux_2_12_x86_64.manylinux2010_x86_64.whl (6.4 MB)\n",
            "\u001b[K     |████████████████████████████████| 6.4 MB 15.4 MB/s \n",
            "\u001b[?25hInstalling collected packages: PyMuPDF\n",
            "  Attempting uninstall: PyMuPDF\n",
            "    Found existing installation: PyMuPDF 1.18.0\n",
            "    Uninstalling PyMuPDF-1.18.0:\n",
            "      Successfully uninstalled PyMuPDF-1.18.0\n",
            "Successfully installed PyMuPDF-1.18.19\n"
          ]
        },
        {
          "output_type": "display_data",
          "data": {
            "application/vnd.colab-display-data+json": {
              "pip_warning": {
                "packages": [
                  "fitz"
                ]
              }
            }
          },
          "metadata": {}
        },
        {
          "output_type": "stream",
          "name": "stdout",
          "text": [
            "Looking in indexes: https://pypi.org/simple, https://us-python.pkg.dev/colab-wheels/public/simple/\n",
            "Requirement already satisfied: Pillow in /usr/local/lib/python3.7/dist-packages (7.1.2)\n",
            "Looking in indexes: https://pypi.org/simple, https://us-python.pkg.dev/colab-wheels/public/simple/\n",
            "Requirement already satisfied: ghostscript in /usr/local/lib/python3.7/dist-packages (0.7)\n",
            "Requirement already satisfied: setuptools>=38.6.0 in /usr/local/lib/python3.7/dist-packages (from ghostscript) (57.4.0)\n"
          ]
        }
      ]
    },
    {
      "cell_type": "code",
      "source": [
        "import fitz\n",
        "import io\n",
        "from PIL import Image\n",
        "file = \"file path\"\n",
        "\n",
        "pdf_file = fitz.open(file)\n",
        "for page_index in range(len(pdf_file)):\n",
        "    page = pdf_file[page_index]\n",
        "    image_list = page.getImageList()\n",
        "    if image_list:\n",
        "        print(f\"[+] Found a total of {len(image_list)} images in page {page_index}\")\n",
        "        page = pdf_file.loadPage(page_index)  # number of page\n",
        "        pix = page.get_pixmap()\n",
        "        output = f\"outfile{page_index}.png\"\n",
        "        pix.save(output)  \n",
        "\n",
        "    else:\n",
        "        print(\"[!] No images found on page\", page_index)"
      ],
      "metadata": {
        "id": "06_yp2vqB0iV"
      },
      "execution_count": null,
      "outputs": []
    },
    {
      "cell_type": "code",
      "source": [
        "import fitz\n",
        "import io\n",
        "from PIL import Image\n",
        "\n",
        "file = \"file path\"\n",
        "\n",
        "pdf_file = fitz.open(file)\n",
        "for page_index in range(len(pdf_file)):\n",
        "    page = pdf_file[page_index]\n",
        "    image_list = page.getImageList()\n",
        "    if image_list:\n",
        "        print(f\"[+] Found a total of {len(image_list)} images in page {page_index}\")\n",
        "    else:\n",
        "        print(\"[!] No images found on page\", page_index)\n",
        "    for image_index, img in enumerate(page.getImageList(), start=1):\n",
        "        xref = img[0]\n",
        "        base_image = pdf_file.extractImage(xref)\n",
        "        image_bytes = base_image[\"image\"]\n",
        "        image_ext = base_image[\"ext\"]\n",
        "        image = Image.open(io.BytesIO(image_bytes))\n",
        "        image.save(open(f\"image{page_index+1}_{image_index}.{image_ext}\", \"wb\"))"
      ],
      "metadata": {
        "id": "9RI7_arERZXR"
      },
      "execution_count": null,
      "outputs": []
    }
  ]
}
